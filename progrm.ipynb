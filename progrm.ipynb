{
 "cells": [
  {
   "cell_type": "code",
   "execution_count": null,
   "id": "990f1c0a",
   "metadata": {},
   "outputs": [],
   "source": [
    "#https://www.youtube.com/watch?v=D2TJ9wvSP94&ab_channel=PythonEngineer\n",
    "#List comprehension offers a shorter syntax when you want to create a new list based on the values of an existing list."
   ]
  },
  {
   "cell_type": "code",
   "execution_count": 3,
   "id": "5370bbe8",
   "metadata": {},
   "outputs": [
    {
     "name": "stdout",
     "output_type": "stream",
     "text": [
      "[2, 4, 6, 8, 10, 12, 14]\n",
      "[2, 4, 6, 8, 10, 12, 14]\n"
     ]
    }
   ],
   "source": [
    "#lambda arguments:expression \n",
    "#map function\n",
    "a=[1,2,3,4,5,6,7]\n",
    "b=list(map(lambda x:x*2, a))\n",
    "print(b)\n",
    "# we can achieve this using list comperhension\n",
    "c=[x*2 for x in a]\n",
    "print(c)"
   ]
  },
  {
   "cell_type": "code",
   "execution_count": 8,
   "id": "12e9598e",
   "metadata": {},
   "outputs": [
    {
     "name": "stdout",
     "output_type": "stream",
     "text": [
      "[2, 4, 6]\n",
      "[2, 4, 6]\n"
     ]
    }
   ],
   "source": [
    "#filter function\n",
    "a=[1,2,3,4,5,6,7]\n",
    "b=list(filter(lambda x:x%2==0,a))\n",
    "print(b)\n",
    "\n",
    "## we can achieve using list compehension\n",
    "c=[x for x in a if x%2==0]\n",
    "print(c)"
   ]
  },
  {
   "cell_type": "code",
   "execution_count": 9,
   "id": "95154857",
   "metadata": {},
   "outputs": [
    {
     "name": "stdout",
     "output_type": "stream",
     "text": [
      "28\n"
     ]
    }
   ],
   "source": [
    "# reduce for this we require 2 arguments so that we can reduce it to single value \n",
    "from functools import reduce\n",
    "a=[1,2,3,4,5,6,7]\n",
    "b=reduce(lambsda x,y:x+y,a)\n",
    "print(b)"
   ]
  },
  {
   "cell_type": "code",
   "execution_count": null,
   "id": "3d9465e0",
   "metadata": {},
   "outputs": [],
   "source": []
  }
 ],
 "metadata": {
  "kernelspec": {
   "display_name": "Python 3 (ipykernel)",
   "language": "python",
   "name": "python3"
  },
  "language_info": {
   "codemirror_mode": {
    "name": "ipython",
    "version": 3
   },
   "file_extension": ".py",
   "mimetype": "text/x-python",
   "name": "python",
   "nbconvert_exporter": "python",
   "pygments_lexer": "ipython3",
   "version": "3.10.7"
  }
 },
 "nbformat": 4,
 "nbformat_minor": 5
}
