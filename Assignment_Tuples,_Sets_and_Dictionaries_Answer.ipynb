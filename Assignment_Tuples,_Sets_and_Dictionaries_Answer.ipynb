{
 "cells": [
  {
   "cell_type": "code",
   "execution_count": 3,
   "id": "f89df345",
   "metadata": {},
   "outputs": [
    {
     "name": "stdout",
     "output_type": "stream",
     "text": [
      "{33, 34, 39, 40, 42, 29}\n"
     ]
    }
   ],
   "source": [
    "Another measure of average\n",
    "Mode is defined as the value that appears most often in a set of data values. Mode corresponds to the most frequent value.\n",
    "You are given a list of numbers and you need to calculate the mode of this list\n"
   ]
  },
  {
   "cell_type": "code",
   "execution_count": 4,
   "id": "85440cb7",
   "metadata": {},
   "outputs": [
    {
     "name": "stdout",
     "output_type": "stream",
     "text": [
      "{33, 34, 39, 40, 42, 29}\n"
     ]
    }
   ],
   "source": [
    "# Step 1 : Find the unique set of values. Store this in a listtemperatures = [34, 40, 29, 33, 42, 40, 39, 34, 34,33 ]\n",
    "unique_temperatures = set(temperatures)\n",
    "print(unique_temperatures)\n",
    "# Step 2 : Create an empty dictionary which will contain the unique temperatures as keys and their counts in the original temperatures list as values\n",
    "temp_dict = {}\n"
   ]
  },
  {
   "cell_type": "code",
   "execution_count": null,
   "id": "abb19ad5",
   "metadata": {},
   "outputs": [],
   "source": []
  }
 ],
 "metadata": {
  "kernelspec": {
   "display_name": "Python 3 (ipykernel)",
   "language": "python",
   "name": "python3"
  },
  "language_info": {
   "codemirror_mode": {
    "name": "ipython",
    "version": 3
   },
   "file_extension": ".py",
   "mimetype": "text/x-python",
   "name": "python",
   "nbconvert_exporter": "python",
   "pygments_lexer": "ipython3",
   "version": "3.10.7"
  }
 },
 "nbformat": 4,
 "nbformat_minor": 5
}
