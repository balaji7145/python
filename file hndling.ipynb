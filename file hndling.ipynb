{
 "cells": [
  {
   "cell_type": "code",
   "execution_count": 10,
   "id": "e4411082",
   "metadata": {},
   "outputs": [
    {
     "name": "stdout",
     "output_type": "stream",
     "text": [
      "lfjlkdsjf\n",
      "\n",
      "lfkdsjflkjldsgj\n",
      "['lfjlkdsjf\\n', 'lfkdsjflkjldsgj']\n"
     ]
    }
   ],
   "source": [
    "#file hndling\n",
    "f=open(\"kl.txt\",\"r\")\n",
    "g=f.readlines()\n",
    "for i in g:\n",
    "    print(i)\n",
    "print(g)\n",
    "f.close()"
   ]
  },
  {
   "cell_type": "code",
   "execution_count": 24,
   "id": "96a42f5a",
   "metadata": {},
   "outputs": [
    {
     "name": "stdout",
     "output_type": "stream",
     "text": [
      "<_io.TextIOWrapper name='kl.txt' mode='a' encoding='cp1252'>\n"
     ]
    }
   ],
   "source": [
    "#writing data in txt file\n",
    "f=open(\"kl.txt\",\"a\")\n",
    "f.write(\"bk\\n\")\n",
    "f.write(\"fk\\n\")\n",
    "f.write(\"dk\\n\")\n",
    "f.write(\"ddd\\n\")\n",
    "print(f)\n",
    "f.close()"
   ]
  },
  {
   "cell_type": "code",
   "execution_count": 14,
   "id": "767f95d4",
   "metadata": {},
   "outputs": [
    {
     "name": "stdout",
     "output_type": "stream",
     "text": [
      "['lfjlkdsjf\\n']\n"
     ]
    }
   ],
   "source": [
    "with open(\"kl.txt\",\"r\") as g:\n",
    "   print(g.readlines(5))\n",
    "    "
   ]
  },
  {
   "cell_type": "code",
   "execution_count": 26,
   "id": "db6a8db7",
   "metadata": {},
   "outputs": [
    {
     "name": "stdout",
     "output_type": "stream",
     "text": [
      "0\n"
     ]
    }
   ],
   "source": [
    "f=open(\"kl.txt\",\"r\")\n",
    "print(f.tell())"
   ]
  }
 ],
 "metadata": {
  "kernelspec": {
   "display_name": "Python 3 (ipykernel)",
   "language": "python",
   "name": "python3"
  },
  "language_info": {
   "codemirror_mode": {
    "name": "ipython",
    "version": 3
   },
   "file_extension": ".py",
   "mimetype": "text/x-python",
   "name": "python",
   "nbconvert_exporter": "python",
   "pygments_lexer": "ipython3",
   "version": "3.10.7"
  }
 },
 "nbformat": 4,
 "nbformat_minor": 5
}
