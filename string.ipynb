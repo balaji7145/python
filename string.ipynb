{
 "cells": [
  {
   "cell_type": "code",
   "execution_count": null,
   "id": "d08db61b",
   "metadata": {},
   "outputs": [],
   "source": [
    "#https://www.youtube.com/watch?v=e6ivlABOYRI&ab_channel=PythonEngineer\n",
    "# https://www.python-engineer.com/courses/advancedpython/05-strings/"
   ]
  },
  {
   "cell_type": "code",
   "execution_count": null,
   "id": "6a82b094",
   "metadata": {},
   "outputs": [],
   "source": [
    "A string is a sequence of characters. String literals in Python are enclosed by either double or single quotes.\n",
    "\n",
    "my_string = 'Hello'\n",
    "\n",
    "Python strings are immutable which means they cannot be changed after they are created"
   ]
  },
  {
   "cell_type": "code",
   "execution_count": 1,
   "id": "6cbf4166",
   "metadata": {},
   "outputs": [
    {
     "name": "stdout",
     "output_type": "stream",
     "text": [
      "I' m a 'Geek'\n",
      "Hello\n",
      "World\n",
      "Hello World\n"
     ]
    }
   ],
   "source": [
    "# Creation\n",
    "# use singe or double quotes\n",
    "my_string = 'Hello'\n",
    "my_string = \"Hello\"\n",
    "my_string = \"I' m  a 'Geek'\"\n",
    "\n",
    "# escaping backslash\n",
    "my_string = 'I\\' m  a \"Geek\"'\n",
    "my_string = 'I\\' m a \\'Geek\\''\n",
    "print(my_string)\n",
    "\n",
    "# triple quotes for multiline strings\n",
    "my_string = \"\"\"Hello\n",
    "World\"\"\"\n",
    "print(my_string)\n",
    "\n",
    "# backslash if you want to continue in the next line\n",
    "my_string = \"Hello \\\n",
    "World\"\n",
    "print(my_string)"
   ]
  },
  {
   "cell_type": "code",
   "execution_count": 2,
   "id": "8303611e",
   "metadata": {},
   "outputs": [
    {
     "name": "stdout",
     "output_type": "stream",
     "text": [
      "H\n",
      "el\n",
      "Hello\n",
      "World\n",
      "HloWrd\n",
      "dlroW olleH\n"
     ]
    }
   ],
   "source": [
    "#Access characters and substrings\n",
    "my_string = \"Hello World\"\n",
    "\n",
    "# get character by referring to index\n",
    "b = my_string[0]\n",
    "print(b)\n",
    "\n",
    "# Substrings with slicing\n",
    "b = my_string[1:3] # Note that the last index is not included\n",
    "print(b)\n",
    "b = my_string[:5] # from beginning\n",
    "print(b)\n",
    "b = my_string[6:] # until the end\n",
    "print(b)\n",
    "b = my_string[::2] # start to end with every second item\n",
    "print(b)\n",
    "b = my_string[::-1] # reverse the string with a negative step:\n",
    "print(b)"
   ]
  },
  {
   "cell_type": "code",
   "execution_count": 3,
   "id": "8eef0181",
   "metadata": {},
   "outputs": [
    {
     "name": "stdout",
     "output_type": "stream",
     "text": [
      "Hello Tom\n"
     ]
    }
   ],
   "source": [
    "#Concatenate two or more strings\n",
    "# concat strings with +\n",
    "greeting = \"Hello\"\n",
    "name = \"Tom\"\n",
    "sentence = greeting + ' ' + name\n",
    "print(sentence)"
   ]
  },
  {
   "cell_type": "code",
   "execution_count": 4,
   "id": "35517733",
   "metadata": {},
   "outputs": [
    {
     "name": "stdout",
     "output_type": "stream",
     "text": [
      "H\n",
      "e\n",
      "l\n",
      "l\n",
      "o\n"
     ]
    }
   ],
   "source": [
    "# Iterating\n",
    "# Iterating over a string by using a for in loop\n",
    "my_string = 'Hello'\n",
    "for i in my_string:\n",
    "    print(i)"
   ]
  },
  {
   "cell_type": "code",
   "execution_count": 5,
   "id": "9ac6e211",
   "metadata": {},
   "outputs": [
    {
     "name": "stdout",
     "output_type": "stream",
     "text": [
      "yes\n",
      "yes\n"
     ]
    }
   ],
   "source": [
    "# Check if a character or substring exists\n",
    "if \"e\" in \"Hello\":\n",
    "    print(\"yes\")\n",
    "if \"llo\" in \"Hello\":\n",
    "    print(\"yes\")"
   ]
  },
  {
   "cell_type": "code",
   "execution_count": 6,
   "id": "2c56f491",
   "metadata": {},
   "outputs": [
    {
     "name": "stdout",
     "output_type": "stream",
     "text": [
      "Hello World\n",
      "11\n",
      "HELLO WORLD\n",
      "hello world\n",
      "True\n",
      "True\n",
      "4\n",
      "1\n",
      "Hello Universe\n",
      "['how', 'are', 'you', 'doing']\n",
      "['one', 'two', 'three']\n",
      "How are you doing\n"
     ]
    }
   ],
   "source": [
    "# Useful methods\n",
    "my_string = \"     Hello World \"\n",
    "\n",
    "# remove white space\n",
    "my_string = my_string.strip()\n",
    "print(my_string)\n",
    "\n",
    "# number of characters\n",
    "print(len(my_string))\n",
    "\n",
    "# Upper and lower cases\n",
    "print(my_string.upper())\n",
    "print(my_string.lower())\n",
    "\n",
    "# startswith and endswith\n",
    "print(\"hello\".startswith(\"he\"))\n",
    "print(\"hello\".endswith(\"llo\"))\n",
    "\n",
    "# find first index of a given substring, -1 otherwise\n",
    "print(\"Hello\".find(\"o\"))\n",
    "\n",
    "# count number of characters/substrings\n",
    "print(\"Hello\".count(\"e\"))\n",
    "\n",
    "# replace a substring with another string (only if the substring is found)\n",
    "# Note: The original string stays the same\n",
    "message = \"Hello World\"\n",
    "new_message = message.replace(\"World\", \"Universe\")\n",
    "print(new_message)\n",
    "\n",
    "# split the string into a list\n",
    "my_string = \"how are you doing\"\n",
    "a = my_string.split() # default argument is \" \"\n",
    "print(a)\n",
    "my_string = \"one,two,three\"\n",
    "a = my_string.split(\",\")\n",
    "print(a)\n",
    "\n",
    "# join elements of a list into a string\n",
    "my_list = ['How', 'are', 'you', 'doing']\n",
    "a = ' '.join(my_list) # the given string is the separator, e.g. ' ' between each argument\n",
    "print(a)"
   ]
  },
  {
   "cell_type": "code",
   "execution_count": null,
   "id": "be77083e",
   "metadata": {},
   "outputs": [],
   "source": [
    "#f-Strings New since Python 3.6. Use the variables directly inside the braces.\n",
    "\n",
    "name = \"Eric\"\n",
    "age = 25\n",
    "a = f\"Hello, {name}. You are {age}.\"\n",
    "print(a)\n",
    "pi = 3.14159\n",
    "a = f\"Pi is {pi:.3f}\"\n",
    "print(a)\n",
    "# f-Strings are evaluated at runtime, which allows expressions\n",
    "a = f\"The value is {2*60}\"\n",
    "print(a)"
   ]
  }
 ],
 "metadata": {
  "kernelspec": {
   "display_name": "Python 3 (ipykernel)",
   "language": "python",
   "name": "python3"
  },
  "language_info": {
   "codemirror_mode": {
    "name": "ipython",
    "version": 3
   },
   "file_extension": ".py",
   "mimetype": "text/x-python",
   "name": "python",
   "nbconvert_exporter": "python",
   "pygments_lexer": "ipython3",
   "version": "3.10.7"
  }
 },
 "nbformat": 4,
 "nbformat_minor": 5
}
