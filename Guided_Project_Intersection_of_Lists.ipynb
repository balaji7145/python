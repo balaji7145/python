{
 "cells": [
  {
   "cell_type": "markdown",
   "metadata": {
    "id": "rtBrwN-Aexbo"
   },
   "source": [
    "Given a list of n lists, write a function which returns the intersection of all the n lists. Each list can have any number of elements.\n",
    "\n",
    "Example 1:\n",
    "\n",
    "```\n",
    "input = [[5, 5, 5, 8, 10], \n",
    "      [5, 5, 7, 8], \n",
    "      [5, 5, 8, 9, 11]]\n",
    "```\n",
    "\n",
    "```\n",
    "output = [5, 5, 8]\n",
    "```\n",
    "\n",
    "Example 2:\n",
    "\n",
    "```\n",
    "input = [[5, 6], \n",
    "      [5, 5, 7, 8], \n",
    "      [5, 5, 8, 9]]\n",
    "```\n",
    "\n",
    "\n",
    "```\n",
    "output = [5]\n",
    "```"
   ]
  }
 ],
 "metadata": {
  "colab": {
   "collapsed_sections": [],
   "provenance": []
  },
  "kernelspec": {
   "display_name": "Python 3 (ipykernel)",
   "language": "python",
   "name": "python3"
  },
  "language_info": {
   "codemirror_mode": {
    "name": "ipython",
    "version": 3
   },
   "file_extension": ".py",
   "mimetype": "text/x-python",
   "name": "python",
   "nbconvert_exporter": "python",
   "pygments_lexer": "ipython3",
   "version": "3.10.7"
  }
 },
 "nbformat": 4,
 "nbformat_minor": 1
}
