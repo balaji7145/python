{
 "cells": [
  {
   "cell_type": "code",
   "execution_count": 7,
   "id": "566d4f87",
   "metadata": {},
   "outputs": [
    {
     "name": "stdout",
     "output_type": "stream",
     "text": [
      "bk 10 0\n",
      "bk 1000 10\n"
     ]
    }
   ],
   "source": [
    "class Items:\n",
    "    def __init__(self, name, price,quntity):\n",
    "        self.name=name\n",
    "        self.price=price\n",
    "        self.quntity=quntity\n",
    "    def clcution(self, x,y):\n",
    "        \n",
    "        return self.price*self.quntity\n",
    "item=Items(\"bk\",10,)\n",
    "item2=Items(\"bk\",1000,10)\n",
    "print(item.name, item.price,item.quntity)\n",
    "print(item2.name, item2.price,item2.quntity)\n",
    "p"
   ]
  },
  {
   "cell_type": "code",
   "execution_count": 10,
   "id": "4d12b9e2",
   "metadata": {},
   "outputs": [
    {
     "name": "stdout",
     "output_type": "stream",
     "text": [
      "bk 25\n",
      "44444\n"
     ]
    }
   ],
   "source": [
    "#Encapsulation data hiding or hiding implementtion for (_ single underscore  is\"protected\" n __ is privte)\n",
    "class SoftwareDevelpoer:\n",
    "    def __init__(self, name,age):\n",
    "        self.name=name\n",
    "        self.age=age\n",
    "        self._salary=None\n",
    "        self._noofbugs=0\n",
    "        \n",
    "    def get_slry(self):\n",
    "        return self._salary\n",
    "    \n",
    "    def set_slry(self,vlue):\n",
    "        self._salary=vlue\n",
    "        \n",
    "se=SoftwareDevelpoer(\"bk\",25)\n",
    "print(se.name,se.age)\n",
    "se.set_slry(44444)\n",
    "print(se.get_slry())"
   ]
  },
  {
   "cell_type": "code",
   "execution_count": 14,
   "id": "c4fc2e70",
   "metadata": {},
   "outputs": [
    {
     "name": "stdout",
     "output_type": "stream",
     "text": [
      "bk is working....\n",
      "jh is working....\n"
     ]
    }
   ],
   "source": [
    "#inheritnce\n",
    "class Employee:\n",
    "    def __init__(self,name,age):\n",
    "        self.name=name\n",
    "        self.age=age\n",
    "    def work(self):\n",
    "        print(f\"{self.name} is working....\")\n",
    "class SoftwareDevelpoer(Employee):\n",
    "    def __init__(self,name,age,slry,level):\n",
    "        super().__init__(name,age)\n",
    "        self.slry=slry\n",
    "        self.level=level\n",
    "    def work(self):\n",
    "        print(f\"{self.name} is working....\")\n",
    "    \n",
    "class Designer(Employee):\n",
    "    def work(self):\n",
    "        print(f\"{self.name} is working....\")\n",
    "        \n",
    "se=SoftwareDevelpoer(\"bk\",10, \"junior\",6656)\n",
    "#print(se.name,se.age)\n",
    "se.work() #overriding\n",
    "d=Designer(\"jh\",65)\n",
    "d.work()\n",
    "#print(d.name,d.age)"
   ]
  },
  {
   "cell_type": "code",
   "execution_count": null,
   "id": "f37fc5dd",
   "metadata": {},
   "outputs": [],
   "source": []
  }
 ],
 "metadata": {
  "kernelspec": {
   "display_name": "Python 3 (ipykernel)",
   "language": "python",
   "name": "python3"
  },
  "language_info": {
   "codemirror_mode": {
    "name": "ipython",
    "version": 3
   },
   "file_extension": ".py",
   "mimetype": "text/x-python",
   "name": "python",
   "nbconvert_exporter": "python",
   "pygments_lexer": "ipython3",
   "version": "3.10.7"
  }
 },
 "nbformat": 4,
 "nbformat_minor": 5
}
