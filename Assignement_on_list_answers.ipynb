{
 "cells": [
  {
   "cell_type": "code",
   "execution_count": 1,
   "id": "1f23a8f6",
   "metadata": {},
   "outputs": [
    {
     "data": {
      "text/plain": [
       "[34, 40, 29, 33, 42, 37, 39]"
      ]
     },
     "execution_count": 1,
     "metadata": {},
     "output_type": "execute_result"
    }
   ],
   "source": [
    "# A list containing average daily temperature over a week \n",
    "temperatures = [34, 40, 29, 33, 42, 37, 39 ]\n",
    "temperatures\n",
    "\n",
    "# The expected output \n",
    "# output_temperatures = [34, 40, 42, 33, 29, 37, 39]"
   ]
  },
  {
   "cell_type": "code",
   "execution_count": 23,
   "id": "19cfd003",
   "metadata": {},
   "outputs": [
    {
     "name": "stdout",
     "output_type": "stream",
     "text": [
      "42\n"
     ]
    }
   ],
   "source": [
    "# Store the highest temperature\n",
    "max_temp = max(temperatures)\n",
    "print(max_temp)"
   ]
  },
  {
   "cell_type": "code",
   "execution_count": 19,
   "id": "39a4b11d",
   "metadata": {},
   "outputs": [
    {
     "name": "stdout",
     "output_type": "stream",
     "text": [
      "4\n"
     ]
    }
   ],
   "source": [
    "# Index of the element with the highest temperature\n",
    "max_temp_index =temperatures.index(42)\n",
    "print(max_temp_index)"
   ]
  },
  {
   "cell_type": "code",
   "execution_count": 21,
   "id": "eef5601a",
   "metadata": {},
   "outputs": [
    {
     "name": "stdout",
     "output_type": "stream",
     "text": [
      "29\n",
      "2\n"
     ]
    }
   ],
   "source": [
    "# Store the lowest temperature \n",
    "min_temp = min(temperatures)\n",
    "print(min_temp)\n",
    "\n",
    "\n"
   ]
  },
  {
   "cell_type": "code",
   "execution_count": 24,
   "id": "6ddc009d",
   "metadata": {},
   "outputs": [
    {
     "name": "stdout",
     "output_type": "stream",
     "text": [
      "2\n"
     ]
    }
   ],
   "source": [
    "# Index of the element with the lowest temperature\n",
    "min_temp_index =temperatures.index(29)\n",
    "print(min_temp_index)"
   ]
  },
  {
   "cell_type": "markdown",
   "id": "7e52fca0",
   "metadata": {},
   "source": [
    "# Problem 2 \n",
    "\n",
    "Measures of Averages\n",
    "Mean of a group is defined as the sum of the elements in the group divided by the number of elements in the group.\n",
    "Median is the middle number in a sorted, ascending or descending, list of numbers. If the list has  𝑁  numbers where  𝑁  is odd, then median is the element in the middle i.e,  (𝑁+12)𝑡ℎ  element. If  𝑁  is even, then median is the mean of  (𝑁2)𝑡ℎ  and  (𝑁2+1)𝑡ℎ  elements\n",
    "\n",
    "\n",
    "\n"
   ]
  },
  {
   "cell_type": "code",
   "execution_count": 37,
   "id": "fbd5d6a6",
   "metadata": {},
   "outputs": [
    {
     "name": "stdout",
     "output_type": "stream",
     "text": [
      "1975.0\n"
     ]
    }
   ],
   "source": [
    "# List of product prices\n",
    "from statistics import mean\n",
    "prod_price_list = [400, 250, 800, 550, 600, 820, 720, 15000, 360,250]\n",
    "prod_price_list\n",
    "\n",
    "#mean_price=mean(prod_price_list)\n",
    "#mean_price = sum(prod_price_list)/len(prod_price_list)\n",
    "print(mean_price)\n"
   ]
  },
  {
   "cell_type": "code",
   "execution_count": 31,
   "id": "44bb57a4",
   "metadata": {},
   "outputs": [
    {
     "data": {
      "text/plain": [
       "1975.0"
      ]
     },
     "execution_count": 31,
     "metadata": {},
     "output_type": "execute_result"
    }
   ],
   "source": [
    "mean_price\n"
   ]
  },
  {
   "cell_type": "code",
   "execution_count": 39,
   "id": "0d5567c0",
   "metadata": {},
   "outputs": [
    {
     "name": "stdout",
     "output_type": "stream",
     "text": [
      "575.0\n"
     ]
    }
   ],
   "source": [
    "from statistics import median\n",
    "prod_price_list = [400, 250, 800, 550, 600, 820, 720, 15000, 360,250]\n",
    "prod_price_list\n",
    "median_price=median(prod_price_list)\n",
    "print(median_price)\n",
    "\n",
    "# Step 1 - Obtain the sorted list. Print the sorted_prices\n",
    "sorted_prices =prod_price_list.sort()\n",
    "print(sorted_prices)\n"
   ]
  },
  {
   "cell_type": "code",
   "execution_count": 43,
   "id": "25dba032",
   "metadata": {},
   "outputs": [
    {
     "name": "stdout",
     "output_type": "stream",
     "text": [
      "[250, 250, 360, 400, 550, 600, 720, 800, 820, 15000]\n"
     ]
    }
   ],
   "source": [
    "# Step 1 - Obtain the sorted list. Print the sorted_prices\n",
    "prod_price_list = [400, 250, 800, 550, 600, 820, 720, 15000, 360,250]\n",
    "prod_price_list.sort()\n",
    "print(prod_price_list)"
   ]
  },
  {
   "cell_type": "code",
   "execution_count": 66,
   "id": "3555c492",
   "metadata": {},
   "outputs": [
    {
     "name": "stdout",
     "output_type": "stream",
     "text": [
      "['Qualcomm', 'Google', 'Apple', 'Nvidia', 'Cisco', 'Samsung']\n"
     ]
    }
   ],
   "source": [
    "# The list of tech companies curated by the individual\n",
    "tech_companies = ['Qualcomm','Google','Apple',['Nvidia','Cisco','Samsung']]\n",
    "# The final list that we want\n",
    "# correct_tech_companies = ['Qualcomm','Google','Apple','Nvidia','Cisco','Samsung']\n",
    "tech_companies.pop()\n",
    "\n",
    "tech_companies.extend(['Nvidia','Cisco','Samsung'])\n",
    "\n",
    "print(tech_companies)\n",
    "\n",
    "\n"
   ]
  },
  {
   "cell_type": "code",
   "execution_count": null,
   "id": "7c7e1803",
   "metadata": {},
   "outputs": [],
   "source": []
  },
  {
   "cell_type": "code",
   "execution_count": null,
   "id": "36b2e559",
   "metadata": {},
   "outputs": [],
   "source": []
  }
 ],
 "metadata": {
  "kernelspec": {
   "display_name": "Python 3.10.7 64-bit",
   "language": "python",
   "name": "python3"
  },
  "language_info": {
   "codemirror_mode": {
    "name": "ipython",
    "version": 3
   },
   "file_extension": ".py",
   "mimetype": "text/x-python",
   "name": "python",
   "nbconvert_exporter": "python",
   "pygments_lexer": "ipython3",
   "version": "3.10.7"
  },
  "vscode": {
   "interpreter": {
    "hash": "21cebfe441230840cba1c4cb361f077664989049bef5e2ed5168580d9a660451"
   }
  }
 },
 "nbformat": 4,
 "nbformat_minor": 5
}
