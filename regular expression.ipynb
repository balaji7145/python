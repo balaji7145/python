{
 "cells": [
  {
   "cell_type": "code",
   "execution_count": null,
   "id": "82f8572b",
   "metadata": {},
   "outputs": [],
   "source": [
    "#regular expression"
   ]
  },
  {
   "cell_type": "code",
   "execution_count": 2,
   "id": "715f12df",
   "metadata": {},
   "outputs": [],
   "source": [
    "import re\n"
   ]
  },
  {
   "cell_type": "code",
   "execution_count": 41,
   "id": "3153871b",
   "metadata": {},
   "outputs": [],
   "source": [
    "text_to_serch= '''ABCDEFGHIJKLMNOPQRSTUVWXYZ.\n",
    " abcdefghijklmnopqrstuvwxyz\n",
    " charlie chaplin factroy\n",
    " blji kokne koknelkddld \n",
    " 1234567890\n",
    " bk@gmil.com\n",
    " bkk.com\n",
    " xyz, yz, xyzz, xyyzz,xxzzy,zyz'''"
   ]
  },
  {
   "cell_type": "code",
   "execution_count": 3,
   "id": "cc3288ab",
   "metadata": {},
   "outputs": [
    {
     "name": "stdout",
     "output_type": "stream",
     "text": [
      "\\tb\n"
     ]
    }
   ],
   "source": [
    "#r string allow escape characters like \\,.,#$%@\n",
    "print(r'\\tb')"
   ]
  },
  {
   "cell_type": "code",
   "execution_count": 9,
   "id": "6dcebdff",
   "metadata": {},
   "outputs": [
    {
     "name": "stdout",
     "output_type": "stream",
     "text": [
      "<re.Match object; span=(29, 32), match='abc'>\n"
     ]
    }
   ],
   "source": [
    "pattern=re.compile(r'abc')\n",
    "#pattern=re.compile(r'bkk\\.com')\n",
    "matches=pattern.finditer(text_to_serch)\n",
    "for match in matches:\n",
    "    print(match)"
   ]
  },
  {
   "cell_type": "code",
   "execution_count": 34,
   "id": "1b1dd208",
   "metadata": {},
   "outputs": [
    {
     "name": "stdout",
     "output_type": "stream",
     "text": [
      "['kok', 'kok']\n"
     ]
    }
   ],
   "source": [
    "# . matches any charecter except newline\n",
    "match=re.findall(r'k.k',text_to_serch)\n",
    "print(match)"
   ]
  },
  {
   "cell_type": "code",
   "execution_count": 20,
   "id": "bbbd655d",
   "metadata": {},
   "outputs": [
    {
     "name": "stdout",
     "output_type": "stream",
     "text": [
      "<re.Match object; span=(31, 32), match='b'>\n"
     ]
    }
   ],
   "source": [
    "# [] represents chrecter class\n",
    "match=re.search(r'[b]',text_to_serch)\n",
    "print(match)"
   ]
  },
  {
   "cell_type": "code",
   "execution_count": 25,
   "id": "9fce47f8",
   "metadata": {},
   "outputs": [
    {
     "name": "stdout",
     "output_type": "stream",
     "text": [
      "<re.Match object; span=(0, 1), match='A'>\n"
     ]
    }
   ],
   "source": [
    "# ^ matches begening\n",
    "match=re.search(r'^A',text_to_serch)\n",
    "print(match)"
   ]
  },
  {
   "cell_type": "code",
   "execution_count": 30,
   "id": "4d2a51d1",
   "metadata": {},
   "outputs": [
    {
     "name": "stdout",
     "output_type": "stream",
     "text": [
      "<re.Match object; span=(88, 89), match='m'>\n"
     ]
    }
   ],
   "source": [
    "# $ matches end\n",
    "match=re.search(r'm$',text_to_serch)\n",
    "print(match)"
   ]
  },
  {
   "cell_type": "code",
   "execution_count": 37,
   "id": "0fa6a110",
   "metadata": {},
   "outputs": [
    {
     "name": "stdout",
     "output_type": "stream",
     "text": [
      "['cha', 'cha', 'fac']\n"
     ]
    }
   ],
   "source": [
    "# | or\n",
    "match=re.findall(r'cha|fac',text_to_serch)\n",
    "print(match)"
   ]
  },
  {
   "cell_type": "code",
   "execution_count": 38,
   "id": "1554ad80",
   "metadata": {},
   "outputs": [
    {
     "name": "stdout",
     "output_type": "stream",
     "text": [
      "['cha', 'cha']\n"
     ]
    }
   ],
   "source": [
    "# ?\n",
    "match=re.findall(r'ch?a',text_to_serch)\n",
    "print(match)"
   ]
  },
  {
   "cell_type": "code",
   "execution_count": 39,
   "id": "ca02da39",
   "metadata": {},
   "outputs": [
    {
     "name": "stdout",
     "output_type": "stream",
     "text": [
      "['cha', 'cha']\n"
     ]
    }
   ],
   "source": [
    "# * any no of occurence\n",
    "\n",
    "match=re.findall(r'ch*a',text_to_serch)\n",
    "print(match)"
   ]
  },
  {
   "cell_type": "code",
   "execution_count": null,
   "id": "6ebd54f7",
   "metadata": {},
   "outputs": [],
   "source": [
    "# + one or more  no of occurence\n",
    "\n",
    "match=re.findall(r'ch+a',text_to_serch)\n",
    "print(match)"
   ]
  },
  {
   "cell_type": "code",
   "execution_count": 42,
   "id": "d21ad8d9",
   "metadata": {},
   "outputs": [
    {
     "name": "stdout",
     "output_type": "stream",
     "text": [
      "['yy']\n"
     ]
    }
   ],
   "source": [
    "# {} no of occurence\n",
    "\n",
    "match=re.findall(r'y{2,4}',text_to_serch)\n",
    "print(match)"
   ]
  },
  {
   "cell_type": "code",
   "execution_count": 43,
   "id": "99d6c923",
   "metadata": {},
   "outputs": [
    {
     "name": "stdout",
     "output_type": "stream",
     "text": [
      "['x', 'x', 'x', 'y']\n"
     ]
    }
   ],
   "source": [
    "# {} no of occurence\n",
    "\n",
    "match=re.findall(r'(x|y)yz',text_to_serch)\n",
    "print(match)"
   ]
  },
  {
   "cell_type": "code",
   "execution_count": 49,
   "id": "e224aa2e",
   "metadata": {},
   "outputs": [
    {
     "name": "stdout",
     "output_type": "stream",
     "text": [
      "harry potter\n"
     ]
    }
   ],
   "source": [
    "#specail sequences A mAtches if string begins with given chArecter\n",
    "\n",
    "b=\"harry potter\"\n",
    "re.search(r'\\Ahar',b)\n",
    "print(b)"
   ]
  },
  {
   "cell_type": "code",
   "execution_count": 50,
   "id": "f01cd3d7",
   "metadata": {},
   "outputs": [
    {
     "name": "stdout",
     "output_type": "stream",
     "text": [
      "<re.Match object; span=(0, 1), match='h'>\n"
     ]
    }
   ],
   "source": [
    "# b matches if word starts with given chr\n",
    "bj=\"harry potter\"\n",
    "k=re.search(r\"\\bh\",bj)\n",
    "print(k)"
   ]
  },
  {
   "cell_type": "code",
   "execution_count": 51,
   "id": "627c19c6",
   "metadata": {},
   "outputs": [
    {
     "name": "stdout",
     "output_type": "stream",
     "text": [
      "<re.Match object; span=(0, 2), match='ha'>\n"
     ]
    }
   ],
   "source": [
    "# B oppposite  to b \n",
    "bj=\"harry potter\"\n",
    "k=re.search(r\"ha\\B\",bj)\n",
    "print(k)"
   ]
  },
  {
   "cell_type": "code",
   "execution_count": 53,
   "id": "91525bdb",
   "metadata": {},
   "outputs": [
    {
     "name": "stdout",
     "output_type": "stream",
     "text": [
      "['5', '5']\n"
     ]
    }
   ],
   "source": [
    "#d mtches digits from 09\n",
    "bj=\"harry potter55\"\n",
    "k=re.findall(r\"\\d\",bj)\n",
    "print(k)"
   ]
  },
  {
   "cell_type": "code",
   "execution_count": 55,
   "id": "fc09aa9f",
   "metadata": {},
   "outputs": [
    {
     "name": "stdout",
     "output_type": "stream",
     "text": [
      "['h', 'a', 'r', 'r', 'y', ' ', 'p', 'o', 't', 't', 'e', 'r']\n"
     ]
    }
   ],
   "source": [
    "#D mtches except digits from 09\n",
    "bj=\"harry potter55\"\n",
    "k=re.findall(r\"\\D\",bj)\n",
    "print(k)"
   ]
  },
  {
   "cell_type": "code",
   "execution_count": 56,
   "id": "27eb63a7",
   "metadata": {},
   "outputs": [
    {
     "name": "stdout",
     "output_type": "stream",
     "text": [
      "[' ']\n"
     ]
    }
   ],
   "source": [
    "#s mtches whitespce newline\n",
    "bj=\"harry potter55\"\n",
    "k=re.findall(r\"\\s\",bj)\n",
    "print(k)"
   ]
  },
  {
   "cell_type": "code",
   "execution_count": 57,
   "id": "9bccd2e6",
   "metadata": {},
   "outputs": [
    {
     "name": "stdout",
     "output_type": "stream",
     "text": [
      "['h', 'a', 'r', 'r', 'y', 'p', 'o', 't', 't', 'e', 'r', '5', '5']\n"
     ]
    }
   ],
   "source": [
    "#S mtches except whitespce newline\n",
    "bj=\"harry potter55\"\n",
    "k=re.findall(r\"\\S\",bj)\n",
    "print(k)"
   ]
  },
  {
   "cell_type": "code",
   "execution_count": null,
   "id": "b0d81738",
   "metadata": {},
   "outputs": [],
   "source": []
  }
 ],
 "metadata": {
  "kernelspec": {
   "display_name": "Python 3 (ipykernel)",
   "language": "python",
   "name": "python3"
  },
  "language_info": {
   "codemirror_mode": {
    "name": "ipython",
    "version": 3
   },
   "file_extension": ".py",
   "mimetype": "text/x-python",
   "name": "python",
   "nbconvert_exporter": "python",
   "pygments_lexer": "ipython3",
   "version": "3.10.7"
  }
 },
 "nbformat": 4,
 "nbformat_minor": 5
}
