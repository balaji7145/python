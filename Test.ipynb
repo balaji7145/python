{
 "cells": [
  {
   "cell_type": "code",
   "execution_count": null,
   "id": "8dc848cb",
   "metadata": {},
   "outputs": [],
   "source": [
    "#Write a program in Python to check if number is binary.\n"
   ]
  },
  {
   "cell_type": "code",
   "execution_count": 29,
   "id": "a7683d14",
   "metadata": {},
   "outputs": [
    {
     "name": "stdout",
     "output_type": "stream",
     "text": [
      "5\n",
      "120\n"
     ]
    }
   ],
   "source": [
    "import math\n",
    "\n",
    "num=int(input())\n",
    "\n",
    "print (math.factorial(num))"
   ]
  },
  {
   "cell_type": "code",
   "execution_count": null,
   "id": "ad2a6f6e",
   "metadata": {},
   "outputs": [],
   "source": [
    "num = int(input(\"Enter number : \"))\n",
    "while(num>0):\n",
    "    j=num%10\n",
    "    if j!=0 and j!=1:\n",
    "        print(\"number is not binary\")\n",
    "        break\n",
    "    num=num//10\n",
    "    if num==0:\n",
    "        print(\"number is binary\") "
   ]
  },
  {
   "cell_type": "code",
   "execution_count": 28,
   "id": "5c4a4299",
   "metadata": {},
   "outputs": [
    {
     "name": "stdout",
     "output_type": "stream",
     "text": [
      "Enter number : 5\n",
      "Fibonacci Series: 0 1 1 2 3 \n"
     ]
    }
   ],
   "source": [
    "#Write a program in Python to print the fibonacci series.\n",
    "num = int(input(\"Enter number : \"))\n",
    "n1, n2 = 0, 1\n",
    "print(\"Fibonacci Series:\", n1, n2, end=\" \")\n",
    "for i in range(2, num):\n",
    "    n3 = n1 + n2\n",
    "    n1 = n2\n",
    "    n2 = n3\n",
    "    print(n3, end=\" \")\n",
    "\n",
    "print()"
   ]
  },
  {
   "cell_type": "code",
   "execution_count": 27,
   "id": "35a270d2",
   "metadata": {},
   "outputs": [
    {
     "name": "stdout",
     "output_type": "stream",
     "text": [
      "Enter number : 1221\n",
      "Palindrome\n"
     ]
    }
   ],
   "source": [
    "#Write a program in Python to check whether a number is palindrome or not.\n",
    "\n",
    "\n",
    "num = int(input(\"Enter number : \"))\n",
    "reverse = int(str(num)[::-1])\n",
    "\n",
    "if num == reverse:\n",
    "  print('Palindrome')\n",
    "else:\n",
    "  print(\"Not Palindrome\")"
   ]
  }
 ],
 "metadata": {
  "kernelspec": {
   "display_name": "Python 3 (ipykernel)",
   "language": "python",
   "name": "python3"
  },
  "language_info": {
   "codemirror_mode": {
    "name": "ipython",
    "version": 3
   },
   "file_extension": ".py",
   "mimetype": "text/x-python",
   "name": "python",
   "nbconvert_exporter": "python",
   "pygments_lexer": "ipython3",
   "version": "3.10.7"
  }
 },
 "nbformat": 4,
 "nbformat_minor": 5
}
