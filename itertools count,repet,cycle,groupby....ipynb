{
 "cells": [
  {
   "cell_type": "code",
   "execution_count": null,
   "id": "ae3903d6",
   "metadata": {},
   "outputs": [],
   "source": []
  },
  {
   "cell_type": "code",
   "execution_count": null,
   "id": "772d5182",
   "metadata": {},
   "outputs": [],
   "source": [
    "https://www.youtube.com/watch?v=3ecISAkioPc&list=PLqnslRFeH2UqLwzS0AwKDKLrpYBKzLBy2&index=7&ab_channel=PythonEngineer\n",
    "A written Tutorial can be found here:\n",
    "https://www.python-engineer.com/courses/advancedpython/07-itertools/"
   ]
  },
  {
   "cell_type": "code",
   "execution_count": null,
   "id": "408c7298",
   "metadata": {},
   "outputs": [],
   "source": [
    "##The Python itertools module is a collection of tools for handling iterators. Simply put, iterators are data types that can\n",
    "be used in a for loop. The most common iterator in Python is the list.\n",
    "#product()\n",
    "#This tool computes the cartesian product of input iterables.\n",
    "#It is equivalent to nested for-loops. For example, product(A, B) returns the same as ((x,y) for x in A for y in B).\n"
   ]
  },
  {
   "cell_type": "code",
   "execution_count": 3,
   "id": "c6e991bb",
   "metadata": {},
   "outputs": [
    {
     "name": "stdout",
     "output_type": "stream",
     "text": [
      "[(1, 3), (1, 4), (2, 3), (2, 4)]\n",
      "[(1, 3, 1, 3), (1, 3, 2, 3), (2, 3, 1, 3), (2, 3, 2, 3)]\n"
     ]
    }
   ],
   "source": [
    "from itertools import product\n",
    "c=[1, 2]\n",
    "d=[3, 4]\n",
    "prod = product(c,d )\n",
    "print(list(prod)) # note that we convert the iterator to a list for printing\n",
    "\n",
    "# to allow the product of an iterable with itself, specify the number of repetitions \n",
    "prod = product([1, 2], [3], repeat=2)\n",
    "print(list(prod)) # note that we convert the iterator to a list for printing"
   ]
  },
  {
   "cell_type": "code",
   "execution_count": null,
   "id": "3fe50319",
   "metadata": {},
   "outputs": [],
   "source": [
    "permutations()\n",
    "This tool returns successive length permutations of elements in an iterable, \n",
    "with all possible orderings, and no repeated elements."
   ]
  },
  {
   "cell_type": "code",
   "execution_count": 5,
   "id": "7efb2dbd",
   "metadata": {},
   "outputs": [
    {
     "name": "stdout",
     "output_type": "stream",
     "text": [
      "[(1, 2, 3), (1, 3, 2), (2, 1, 3), (2, 3, 1), (3, 1, 2), (3, 2, 1)]\n",
      "[(1, 2), (1, 3), (2, 1), (2, 3), (3, 1), (3, 2)]\n"
     ]
    }
   ],
   "source": [
    "from itertools import permutations\n",
    "perm = permutations([1, 2, 3])\n",
    "print(list(perm))\n",
    "\n",
    "# optional: the length of the permutation tuples\n",
    "perm = permutations([1, 2, 3], 2)\n",
    "print(list(perm))"
   ]
  },
  {
   "cell_type": "code",
   "execution_count": null,
   "id": "7a29cbda",
   "metadata": {},
   "outputs": [],
   "source": [
    "combinations() and combinationswithreplacement()\n",
    "r-length tuples, in sorted order. So, if the input iterable is sorted, \n",
    "the combination tuples will be produced in sorted order. combinations() does not allow repeated elements, but combinationswithreplacement() does.\n",
    "\n",
    "from itertools import combinations, combinations_with_replacement"
   ]
  },
  {
   "cell_type": "code",
   "execution_count": 8,
   "id": "9e138db6",
   "metadata": {},
   "outputs": [
    {
     "name": "stdout",
     "output_type": "stream",
     "text": [
      "[(1, 2), (1, 3), (1, 4), (2, 3), (2, 4), (3, 4)]\n",
      "[(1, 1), (1, 2), (1, 3), (1, 4), (2, 2), (2, 3), (2, 4), (3, 3), (3, 4), (4, 4)]\n"
     ]
    }
   ],
   "source": [
    "# the second argument is mandatory and specifies the length of the output tuples.\n",
    "from itertools import combinations, combinations_with_replacement\n",
    "comb = combinations([1, 2, 3, 4], 2)\n",
    "print(list(comb))\n",
    "\n",
    "comb = combinations_with_replacement([1, 2, 3, 4], 2)\n",
    "print(list(comb))"
   ]
  },
  {
   "cell_type": "code",
   "execution_count": 10,
   "id": "3db3e8fd",
   "metadata": {},
   "outputs": [
    {
     "name": "stdout",
     "output_type": "stream",
     "text": [
      "[1, 2, 3, 4]\n",
      "[1, 3, 6, 10]\n",
      "[1, 2, 6, 24]\n",
      "[1, 5, 5, 6, 6, 6]\n"
     ]
    }
   ],
   "source": [
    "#accumulate()\n",
    "#Make an iterator that returns accumulated sums, or accumulated results of other binary functions.\n",
    "\n",
    "from itertools import accumulate\n",
    "\n",
    "# return accumulated sums\n",
    "b=[1,2,3,4]\n",
    "acc = accumulate(b)\n",
    "print(b)\n",
    "print(list(acc))\n",
    "\n",
    "# other possible functions are possible\n",
    "import operator\n",
    "acc = accumulate([1,2,3,4], func=operator.mul)\n",
    "print(list(acc))\n",
    "\n",
    "acc = accumulate([1,5,2,6,3,4], func=max)\n",
    "print(list(acc))"
   ]
  },
  {
   "cell_type": "code",
   "execution_count": null,
   "id": "a6d25c7b",
   "metadata": {},
   "outputs": [],
   "source": [
    "# groupby()\n",
    "Make an iterator that returns consecutive keys and groups from the iterable. The key is a function computing a key value for \n",
    "each element. If not specified or is None,key defaults to an identity function and returns the element unchanged. Generally, the \n",
    "iterable needs to already be sorted on the same key function."
   ]
  },
  {
   "cell_type": "code",
   "execution_count": 11,
   "id": "b58c2410",
   "metadata": {},
   "outputs": [
    {
     "name": "stdout",
     "output_type": "stream",
     "text": [
      "True [1, 2]\n",
      "False [3, 4]\n",
      "True ['hi', 'nice']\n",
      "False ['hello', 'cool']\n",
      "25 [{'name': 'Tim', 'age': 25}, {'name': 'Dan', 'age': 25}]\n",
      "27 [{'name': 'Lisa', 'age': 27}]\n",
      "28 [{'name': 'Claire', 'age': 28}]\n"
     ]
    }
   ],
   "source": [
    "from itertools import groupby\n",
    "\n",
    "# use a function as key\n",
    "def smaller_than_3(x):\n",
    "    return x < 3\n",
    "group_obj = groupby([1, 2, 3, 4], key=lambda x:x<3)\n",
    "#group_obj = groupby([1, 2, 3, 4], key=smaller_than_3)\n",
    "for key, group in group_obj:\n",
    "    print(key, list(group))\n",
    "    \n",
    "# or use a lamda expression, e.g. words with an 'i':\n",
    "group_obj = groupby([\"hi\", \"nice\", \"hello\", \"cool\"], key=lambda x: \"i\" in x)\n",
    "for key, group in group_obj:\n",
    "    print(key, list(group))\n",
    "    \n",
    "persons = [{'name': 'Tim', 'age': 25}, {'name': 'Dan', 'age': 25}, \n",
    "           {'name': 'Lisa', 'age': 27}, {'name': 'Claire', 'age': 28}]\n",
    "\n",
    "for key, group in groupby(persons, key=lambda x: x['age']):\n",
    "    print(key, list(group))"
   ]
  },
  {
   "cell_type": "code",
   "execution_count": 12,
   "id": "b9678df2",
   "metadata": {},
   "outputs": [
    {
     "name": "stdout",
     "output_type": "stream",
     "text": [
      "10\n",
      "11\n",
      "12\n",
      "13\n",
      "\n",
      "1\n",
      "2\n",
      "3\n",
      "1\n",
      "2\n",
      "3\n",
      "\n",
      "A\n",
      "A\n",
      "A\n"
     ]
    }
   ],
   "source": [
    "#Infinite iterators: count(), cycle(), repeat()\n",
    "from itertools import count, cycle, repeat\n",
    "# count(x): count from x: x, x+1, x+2, x+3...\n",
    "for i in count(10):\n",
    "    print(i)\n",
    "    if  i >= 13:\n",
    "        break\n",
    "\n",
    "# cycle(iterable) : cycle infinitely through an iterable\n",
    "print(\"\")\n",
    "sum = 0\n",
    "for i in cycle([1, 2, 3]):\n",
    "    print(i)\n",
    "    sum += i\n",
    "    if sum >= 12:\n",
    "        break\n",
    "\n",
    "# repeat(x): repeat x infinitely or n times\n",
    "print(\"\")\n",
    "for i in repeat(\"A\", 3):\n",
    "    print(i)"
   ]
  },
  {
   "cell_type": "code",
   "execution_count": null,
   "id": "8196298f",
   "metadata": {},
   "outputs": [],
   "source": []
  }
 ],
 "metadata": {
  "kernelspec": {
   "display_name": "Python 3 (ipykernel)",
   "language": "python",
   "name": "python3"
  },
  "language_info": {
   "codemirror_mode": {
    "name": "ipython",
    "version": 3
   },
   "file_extension": ".py",
   "mimetype": "text/x-python",
   "name": "python",
   "nbconvert_exporter": "python",
   "pygments_lexer": "ipython3",
   "version": "3.10.7"
  }
 },
 "nbformat": 4,
 "nbformat_minor": 5
}
