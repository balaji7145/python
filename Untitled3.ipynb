{
 "cells": [
  {
   "cell_type": "code",
   "execution_count": 1,
   "id": "c9493d6b",
   "metadata": {},
   "outputs": [
    {
     "data": {
      "text/plain": [
       "'Wikipedia is a free online encyclopedia, created and edited by volunteers around the world and hosted by the Wikimedia Foundation.'"
      ]
     },
     "execution_count": 1,
     "metadata": {},
     "output_type": "execute_result"
    }
   ],
   "source": [
    "# Store the given sentence in a variable\n",
    "sentence = \"Wikipedia is a free online encyclopedia, created and edited by volunteers around the world and hosted by the Wikimedia Foundation.\"\n",
    "sentence\n"
   ]
  },
  {
   "cell_type": "code",
   "execution_count": 10,
   "id": "80de62dd",
   "metadata": {},
   "outputs": [],
   "source": [
    "# Calculate the total number of words in the sentence.  Hint : Use the count() method\n",
    "num_of_words = sentence.count('free')\n"
   ]
  },
  {
   "cell_type": "code",
   "execution_count": 9,
   "id": "9da5ffa8",
   "metadata": {},
   "outputs": [
    {
     "data": {
      "text/plain": [
       "1"
      ]
     },
     "execution_count": 9,
     "metadata": {},
     "output_type": "execute_result"
    }
   ],
   "source": [
    "\n",
    "# Print the variable num_of_words\n",
    "num_of_words\n"
   ]
  },
  {
   "cell_type": "markdown",
   "id": "ac063d32",
   "metadata": {},
   "source": [
    "# Problem 2 \n",
    "#Write a Python code which takes a number and returns a corresponding string of hyphens. For example if the number is 3, it will return '---' , if the number is 5 it will return '-----'"
   ]
  },
  {
   "cell_type": "code",
   "execution_count": null,
   "id": "7f1360ff",
   "metadata": {},
   "outputs": [],
   "source": [
    "inputted_number = int(input())"
   ]
  },
  {
   "cell_type": "code",
   "execution_count": null,
   "id": "72e9b794",
   "metadata": {},
   "outputs": [],
   "source": [
    "inputted_number"
   ]
  },
  {
   "cell_type": "code",
   "execution_count": null,
   "id": "1a6d360c",
   "metadata": {},
   "outputs": [],
   "source": [
    "print(inputted_number)"
   ]
  },
  {
   "cell_type": "code",
   "execution_count": null,
   "id": "e1ca4246",
   "metadata": {},
   "outputs": [],
   "source": [
    "6"
   ]
  },
  {
   "cell_type": "code",
   "execution_count": null,
   "id": "57858446",
   "metadata": {},
   "outputs": [],
   "source": []
  },
  {
   "cell_type": "code",
   "execution_count": null,
   "id": "da045c06",
   "metadata": {},
   "outputs": [],
   "source": []
  }
 ],
 "metadata": {
  "kernelspec": {
   "display_name": "Python 3 (ipykernel)",
   "language": "python",
   "name": "python3"
  },
  "language_info": {
   "codemirror_mode": {
    "name": "ipython",
    "version": 3
   },
   "file_extension": ".py",
   "mimetype": "text/x-python",
   "name": "python",
   "nbconvert_exporter": "python",
   "pygments_lexer": "ipython3",
   "version": "3.10.7"
  }
 },
 "nbformat": 4,
 "nbformat_minor": 5
}
