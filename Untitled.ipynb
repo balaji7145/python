{
 "cells": [
  {
   "cell_type": "code",
   "execution_count": 2,
   "id": "b51be222",
   "metadata": {},
   "outputs": [],
   "source": [
    "import re\n"
   ]
  },
  {
   "cell_type": "code",
   "execution_count": 6,
   "id": "5c98685b",
   "metadata": {},
   "outputs": [
    {
     "name": "stdout",
     "output_type": "stream",
     "text": [
      "['bc', 'bc']\n"
     ]
    }
   ],
   "source": [
    "my_string = 'abc123ABC123abc'\n",
    "pttern=re.findall(r'bc',my_string)\n",
    "print(pttern)\n"
   ]
  },
  {
   "cell_type": "code",
   "execution_count": 12,
   "id": "9a95beb3",
   "metadata": {},
   "outputs": [
    {
     "name": "stdout",
     "output_type": "stream",
     "text": [
      "['2020.04.01', '2020-04-01', '2020-05-23', '2020-06-11', '2020-07-11', '2020-08-11', '2020/04/02', '2020_04_04', '2020_04_04']\n"
     ]
    }
   ],
   "source": [
    "dates = '''\n",
    "01.04.2020\n",
    "\n",
    "2020.04.01\n",
    "\n",
    "2020-04-01\n",
    "2020-05-23\n",
    "2020-06-11\n",
    "2020-07-11\n",
    "2020-08-11\n",
    "\n",
    "2020/04/02\n",
    "\n",
    "2020_04_04\n",
    "2020_04_04\n",
    "'''\n",
    "#pttern=re.findall(r'\\d\\d\\d\\d.\\d\\d.\\d\\d',dates)\n",
    "pttern=re.findall(r'\\d{4}.\\d{2}.\\d{2}',dates)\n",
    "print(pttern)"
   ]
  },
  {
   "cell_type": "code",
   "execution_count": null,
   "id": "f34f34f7",
   "metadata": {},
   "outputs": [],
   "source": []
  }
 ],
 "metadata": {
  "kernelspec": {
   "display_name": "Python 3 (ipykernel)",
   "language": "python",
   "name": "python3"
  },
  "language_info": {
   "codemirror_mode": {
    "name": "ipython",
    "version": 3
   },
   "file_extension": ".py",
   "mimetype": "text/x-python",
   "name": "python",
   "nbconvert_exporter": "python",
   "pygments_lexer": "ipython3",
   "version": "3.10.7"
  }
 },
 "nbformat": 4,
 "nbformat_minor": 5
}
