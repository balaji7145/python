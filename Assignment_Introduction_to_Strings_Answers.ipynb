{
 "cells": [
  {
   "cell_type": "code",
   "execution_count": 1,
   "id": "d932b131",
   "metadata": {},
   "outputs": [
    {
     "data": {
      "text/plain": [
       "1"
      ]
     },
     "execution_count": 1,
     "metadata": {},
     "output_type": "execute_result"
    }
   ],
   "source": [
    "# Store the given sentence in a variable\n",
    "sentence = \"Wikipedia is a free online encyclopedia, created and edited by volunteers around the world and hosted by the Wikimedia Foundation.\"\n",
    "sentence\n",
    "# Calculate the total number of words in the sentence.  Hint : Use the count() method\n",
    "num_of_words = sentence.count('free')\n",
    "# Print the variable num_of_words\n",
    "num_of_words"
   ]
  },
  {
   "cell_type": "code",
   "execution_count": 2,
   "id": "d49c9025",
   "metadata": {},
   "outputs": [
    {
     "name": "stdout",
     "output_type": "stream",
     "text": [
      "5\n"
     ]
    }
   ],
   "source": [
    "# Store the user input in a variable\n",
    "inputted_number = int(input())"
   ]
  },
  {
   "cell_type": "code",
   "execution_count": 7,
   "id": "f250c900",
   "metadata": {},
   "outputs": [
    {
     "name": "stdout",
     "output_type": "stream",
     "text": [
      "4\n",
      "____\n"
     ]
    }
   ],
   "source": [
    "# Create a string of equivalent number of hyphens. Hint : remember what happens when we multiply string by a number?\n",
    "inputted_number = int(input())\n",
    "string_of_hyphens =inputted_number *'_'\n",
    "print(string_of_hyphens)"
   ]
  },
  {
   "cell_type": "markdown",
   "id": "21c528c9",
   "metadata": {},
   "source": [
    "# Problem 3 \n",
    "A string can be called a safe bridge if it has no gaps in it i.e, no spaces. You are supposed to take an input from the user and print whether the string is a safe bridge or not."
   ]
  },
  {
   "cell_type": "code",
   "execution_count": null,
   "id": "04405347",
   "metadata": {},
   "outputs": [],
   "source": [
    "# Store the user input in a variable\n",
    "bridge = input()"
   ]
  },
  {
   "cell_type": "code",
   "execution_count": 1,
   "id": "8c068174",
   "metadata": {},
   "outputs": [
    {
     "name": "stdout",
     "output_type": "stream",
     "text": [
      "kllkkkl\n"
     ]
    }
   ],
   "source": [
    "# Return True if the bridge is safe and False if the bridge is not safe. Hint : Use the find() method\n",
    "bridge = input()\n",
    "is_safe_bridge =bridge.find('')"
   ]
  },
  {
   "cell_type": "code",
   "execution_count": 2,
   "id": "f0313755",
   "metadata": {},
   "outputs": [
    {
     "name": "stdout",
     "output_type": "stream",
     "text": [
      "It is bridge that the bridge is a safe bridge\n"
     ]
    }
   ],
   "source": [
    "# Fill in the blanks\n",
    "print(f\"It is bridge that the bridge is a safe bridge\" )"
   ]
  },
  {
   "cell_type": "markdown",
   "id": "d25f5129",
   "metadata": {},
   "source": [
    "# Problem 4\n",
    "Count the number of D's in a string inputted by the user. This will be case insensitive.# "
   ]
  },
  {
   "cell_type": "code",
   "execution_count": 3,
   "id": "9173bd90",
   "metadata": {},
   "outputs": [
    {
     "data": {
      "text/plain": [
       "'Debris was scattered all over the yard in the densest region of Denmark'"
      ]
     },
     "execution_count": 3,
     "metadata": {},
     "output_type": "execute_result"
    }
   ],
   "source": [
    "# Store the user input in a variable\n",
    "user_string = 'Debris was scattered all over the yard in the densest region of Denmark'\n",
    "user_string"
   ]
  },
  {
   "cell_type": "code",
   "execution_count": null,
   "id": "cadbb8e4",
   "metadata": {},
   "outputs": [],
   "source": [
    "# Store the count of letter D in the inputted string. Note this will be a case insensitive search\n",
    "user_string = 'Debris was scattered all over the yard in the densest region of Denmark'\n",
    "D_counts =user_string.count('D')\n",
    "\n",
    "# Fill in the blanks\n",
    "print(f\"The total occurrence of D in the user_string is {D_counts}\")"
   ]
  },
  {
   "cell_type": "markdown",
   "id": "f74a3b25",
   "metadata": {},
   "source": [
    "# Problem 5\n",
    "Check whether a given string is a palindrome. A palindrome is a word, number, phrase, or other sequence of characters which reads the same backward as forward, such as madam, racecar."
   ]
  },
  {
   "cell_type": "code",
   "execution_count": 13,
   "id": "19ebbede",
   "metadata": {},
   "outputs": [
    {
     "name": "stdout",
     "output_type": "stream",
     "text": [
      "madam\n",
      "string is a palindrome\n"
     ]
    }
   ],
   "source": [
    "# Store the user input in a variable\n",
    "user_string = input()\n",
    "# Print True if a string is a Palindrome else print false\n",
    "reverse_string=user_string[::-1]\n",
    "if reverse_string==user_string:\n",
    "    print('string is a palindrome')\n",
    "else:\n",
    "    print('not palindrome')"
   ]
  },
  {
   "cell_type": "code",
   "execution_count": null,
   "id": "ce8db593",
   "metadata": {},
   "outputs": [],
   "source": [
    "\n"
   ]
  },
  {
   "cell_type": "code",
   "execution_count": null,
   "id": "ffd09f86",
   "metadata": {},
   "outputs": [],
   "source": []
  }
 ],
 "metadata": {
  "kernelspec": {
   "display_name": "Python 3 (ipykernel)",
   "language": "python",
   "name": "python3"
  },
  "language_info": {
   "codemirror_mode": {
    "name": "ipython",
    "version": 3
   },
   "file_extension": ".py",
   "mimetype": "text/x-python",
   "name": "python",
   "nbconvert_exporter": "python",
   "pygments_lexer": "ipython3",
   "version": "3.10.7"
  }
 },
 "nbformat": 4,
 "nbformat_minor": 5
}
