{
 "cells": [
  {
   "cell_type": "markdown",
   "metadata": {
    "id": "rtBrwN-Aexbo"
   },
   "source": [
    "Given a list of lists, write a function which returns the intersection of all the lists.\n",
    "\n",
    "Example 1:\n",
    "\n",
    "```\n",
    "input = [[5, 5, 10], \n",
    "      [5, 5, 7, 8], \n",
    "      [5, 5, 8, 9, 11]]\n",
    "```\n",
    "\n",
    "```\n",
    "output = [5, 5]\n",
    "```\n",
    "\n",
    "Example 2:\n",
    "\n",
    "```\n",
    "input = [[5, 6], \n",
    "      [5, 5, 7, 8], \n",
    "      [5, 5, 8, 9]]\n",
    "```\n",
    "\n",
    "\n",
    "```\n",
    "output = [5]\n",
    "```"
   ]
  },
  {
   "cell_type": "code",
   "execution_count": null,
   "metadata": {
    "id": "z4GO84CWwFVG"
   },
   "outputs": [],
   "source": [
    "[] --> list\n",
    "\n",
    "[1, 2, 3] --> elem\n",
    "elem: [6,7]\n",
    "\n",
    "List of items\n",
    "\n",
    "[ [6,7], 2, 3]\n",
    "\n",
    "1st elem --> list\n",
    "\n",
    "[ [], [], []]\n",
    "\n",
    "list of List"
   ]
  },
  {
   "cell_type": "markdown",
   "metadata": {
    "id": "_eBSo9ilXVqB"
   },
   "source": [
    "## Method 1"
   ]
  },
  {
   "cell_type": "code",
   "execution_count": 15,
   "metadata": {
    "id": "WN7kubRILTgw"
   },
   "outputs": [],
   "source": [
    "lsts = [[5, 5], \n",
    "        [5, 5, 7, 8], \n",
    "        [5, 5, 8, 9]\n",
    "        ]\n",
    "\n",
    "# 1st take the smallest list\n",
    "# count how many times each elem is present --> dict {5: 2, elem: count, }\n",
    "# Iterate this dict over all the list\n",
    "  inside each list if that same elemn is present with same counter\n",
    "\n",
    "  will help fetch the final answer"
   ]
  },
  {
   "cell_type": "code",
   "execution_count": 16,
   "metadata": {
    "colab": {
     "base_uri": "https://localhost:8080/"
    },
    "id": "SksVSGBw1DWs",
    "outputId": "8730054d-28d1-458c-87b5-02c2ab08dc72"
   },
   "outputs": [
    {
     "data": {
      "text/plain": [
       "dict_keys([5, 8])"
      ]
     },
     "execution_count": 16,
     "metadata": {},
     "output_type": "execute_result"
    }
   ],
   "source": [
    "d = {5:1, 8:1}\n",
    "d.keys()"
   ]
  },
  {
   "cell_type": "code",
   "execution_count": 17,
   "metadata": {
    "colab": {
     "base_uri": "https://localhost:8080/"
    },
    "id": "q_hoRh5I1f_i",
    "outputId": "e3a2f0e6-dd5a-4db6-befe-6e008d76dc8e"
   },
   "outputs": [
    {
     "name": "stdout",
     "output_type": "stream",
     "text": [
      "5\n",
      "8\n"
     ]
    }
   ],
   "source": [
    "for elem in d.keys():\n",
    "  print(elem)"
   ]
  },
  {
   "cell_type": "code",
   "execution_count": 18,
   "metadata": {
    "colab": {
     "base_uri": "https://localhost:8080/"
    },
    "id": "IkTn5W_E1sPB",
    "outputId": "cef67ced-9060-4cd2-ef97-9910e386d7a5"
   },
   "outputs": [
    {
     "data": {
      "text/plain": [
       "{5: 1, 8: 1, 6: 45}"
      ]
     },
     "execution_count": 18,
     "metadata": {},
     "output_type": "execute_result"
    }
   ],
   "source": [
    "d[6] = 45\n",
    "d"
   ]
  },
  {
   "cell_type": "code",
   "execution_count": 19,
   "metadata": {
    "colab": {
     "base_uri": "https://localhost:8080/"
    },
    "id": "A54wRj9P169n",
    "outputId": "e01d0c31-d6f6-4642-f9ee-bbd63bcd4b66"
   },
   "outputs": [
    {
     "data": {
      "text/plain": [
       "dict_keys([])"
      ]
     },
     "execution_count": 19,
     "metadata": {},
     "output_type": "execute_result"
    }
   ],
   "source": [
    "min_list = [5, 8, 8]\n",
    "d = {}\n",
    "d.keys()\n",
    "d[5] = 1"
   ]
  },
  {
   "cell_type": "code",
   "execution_count": 38,
   "metadata": {
    "id": "GRp0zkyuLTgz"
   },
   "outputs": [],
   "source": [
    "def get_intersection_1(lsts):\n",
    "\n",
    "  # Get the smallest list\n",
    "  min_len = len(lsts[0])\n",
    "  for lst in lsts:\n",
    "      if len(lst) <= min_len:\n",
    "          min_len = len(lst)\n",
    "          min_len_list = lst\n",
    "\n",
    "  # Dict of every elem in smallest list as key, \n",
    "  # count of that elem as value\n",
    "  d = {}\n",
    "  for elem in min_len_list:\n",
    "      if elem in d.keys():\n",
    "          d[elem] = d[elem]+1\n",
    "      else:\n",
    "          d[elem] = 1\n",
    "\n",
    "  # {5: 1, 8:2} 8 was present 2 times in smallest\n",
    "  # check whther each key is present in all list, \n",
    "  # and is it present with the same value as in counter\n",
    "\n",
    "  for key in d.keys(): # {5: 2, 8: 1}, {2:1, 5: 1}\n",
    "    for l in lsts: # [5, 5, 8], [5, 5, 8, 9], [7, 8]\n",
    "      count = 0\n",
    "      for item in l:\n",
    "        if key == item:\n",
    "          count = count + 1\n",
    "      \n",
    "      if d[key] > count: \n",
    "        d[key] = count\n",
    "\n",
    "        # {5: 0, 8: 1}\n",
    "        # {2: 0, 5: 1}\n",
    "\n",
    "  lst = []\n",
    "  for key, value in d.items():\n",
    "      for v in range(value):\n",
    "          lst.append(key)\n",
    "        \n",
    "  return lst\n"
   ]
  },
  {
   "cell_type": "code",
   "execution_count": 39,
   "metadata": {
    "id": "e1VKbDcBjXI7"
   },
   "outputs": [],
   "source": [
    "lsts = [\n",
    "          [5, 8, 5, 9], \n",
    "          [5, 7, 8, 5, 6, 7], \n",
    "          [5, 5, 8, 9],\n",
    "          [2, 5]\n",
    "        ]\n",
    "\n",
    "# 1. [5, 8, 5, 9]\n",
    "# 2. {5:2, 8:1, 9:1}\n",
    "# 3. check if this counter is present in all list\n",
    "# 4. update the counter: {5:2, 8: 1, 9: 0}\n",
    "# 5. print the counter"
   ]
  },
  {
   "cell_type": "code",
   "execution_count": 40,
   "metadata": {
    "colab": {
     "base_uri": "https://localhost:8080/"
    },
    "id": "cAtjbPzrLThC",
    "outputId": "951a0d09-7572-4626-b14e-b27cb21b0ece"
   },
   "outputs": [
    {
     "data": {
      "text/plain": [
       "[5]"
      ]
     },
     "execution_count": 40,
     "metadata": {},
     "output_type": "execute_result"
    }
   ],
   "source": [
    "get_intersection_1(lsts)"
   ]
  },
  {
   "cell_type": "markdown",
   "metadata": {
    "id": "STlQWSWRgJCe"
   },
   "source": [
    "*  Time Complexity: O(m^2 * n) where n -> no. of lists and m -> no. of elements in each list\n",
    "*  Auxiliary Space Complexity: O(m)\n",
    "\n"
   ]
  },
  {
   "cell_type": "markdown",
   "metadata": {
    "id": "a75cfTxPX4AB"
   },
   "source": [
    "## Method 2"
   ]
  },
  {
   "cell_type": "code",
   "execution_count": 44,
   "metadata": {
    "id": "hYCX-PkcXMzL"
   },
   "outputs": [],
   "source": [
    "lsts = [[6, 7, 8, 8], \n",
    "        [8 ,8 , 8, 9, 9], \n",
    "        [5, 2, 3, 8, 8]\n",
    "        ]"
   ]
  },
  {
   "cell_type": "code",
   "execution_count": 45,
   "metadata": {
    "id": "K32V7RJRa4Sb"
   },
   "outputs": [],
   "source": [
    "def get_intersection_2(lsts):\n",
    "\n",
    "  global_map = {}\n",
    "\n",
    "  for l in lsts: # [6, 7, 8, 8], [8 ,8 , 8, 9, 9], [5, 2, 3, 8, 8]\n",
    "\n",
    "    # Counter of elem in the current list\n",
    "    counter_map = {}\n",
    "    for elem in l:\n",
    "      counter_map[elem] = counter_map.get(elem, 0) + 1\n",
    "      # {5:2}, {6:1, 7:1, 8:2}\n",
    "      # {5:2, 8:1}, {8: 3, 9: 2}\n",
    "      # {5: 1, 7: 2}, {5: 1, 2: 1, 8:2}\n",
    "\n",
    "    for key in counter_map:\n",
    "      if key not in global_map.keys():\n",
    "        global_map[key] = [1, counter_map[key]]\n",
    "        # value here is a list\n",
    "        # value[0]: counter of how many list this item is present\n",
    "        # value[1]: in each list how many times are you present\n",
    "\n",
    "        # global = {5: [1, 2]}\n",
    "        # {6: [1, 1], 7: [1,1], 8: [1,2]}\n",
    "\n",
    "      else:\n",
    "        value = global_map[key] # [2, 1]\n",
    "        global_map[key] = [value[0] + 1, min(counter_map[key], value[1])] # min(1, 2) --> 1\n",
    "\n",
    "        # global = {6: [1, 1], 8: [3, 2], 7: [1, 2], 9: [1, 2], 5: [1, 1], 2: [1, 1]}\n",
    "        # key: number, value: list [how many unique list I am present, in each list min no times]\n",
    "\n",
    "  answer_list = []\n",
    "  for key, value in global_map.items():\n",
    "    if value[0] == len(lsts):\n",
    "      answer_list += [key] * value[1]\n",
    "\n",
    "  return answer_list"
   ]
  },
  {
   "cell_type": "code",
   "execution_count": 46,
   "metadata": {
    "colab": {
     "base_uri": "https://localhost:8080/"
    },
    "id": "edmcmjjTY3Aj",
    "outputId": "d88549c4-de32-4650-ff54-2559cc174f61"
   },
   "outputs": [
    {
     "data": {
      "text/plain": [
       "[8, 8]"
      ]
     },
     "execution_count": 46,
     "metadata": {},
     "output_type": "execute_result"
    }
   ],
   "source": [
    "get_intersection_2(lsts)"
   ]
  },
  {
   "cell_type": "markdown",
   "metadata": {
    "id": "R_nvNiVQYRm9"
   },
   "source": [
    "*  Time Complexity: O(m * n) where n -> no. of lists and m -> no. of elements in each list\n",
    "*  Auxiliary Space Complexity: O(m * n)\n",
    "\n"
   ]
  },
  {
   "cell_type": "markdown",
   "metadata": {
    "id": "YPZ2-0ErY8f6"
   },
   "source": [
    "## Method 3"
   ]
  },
  {
   "cell_type": "code",
   "execution_count": 13,
   "metadata": {
    "id": "Ai-qnKscZKys"
   },
   "outputs": [],
   "source": [
    "lsts = [[5, 5], \n",
    "      [5, 5, 7, 8], \n",
    "      [5, 5, 8, 9]]"
   ]
  },
  {
   "cell_type": "code",
   "execution_count": 14,
   "metadata": {
    "id": "0ZLhriAEXn0q"
   },
   "outputs": [],
   "source": [
    "def get_frequency_map(l):\n",
    "  map_ = {}\n",
    "  for elem in l:\n",
    "    map_[elem] = map_.get(elem, 0) + 1\n",
    "  return map_"
   ]
  },
  {
   "cell_type": "code",
   "execution_count": null,
   "metadata": {
    "id": "lOmhj4jCXNdP"
   },
   "outputs": [],
   "source": [
    "def get_intersection_3(lsts):\n",
    "\n",
    "  global_map = {}\n",
    "\n",
    "  for l in lsts:\n",
    "    temp_map = get_frequency_map(l)\n",
    "\n",
    "    for key in temp_map.keys():\n",
    "      if key not in global_map.keys():\n",
    "        global_map[key] = [1, temp_map[key]]\n",
    "      else:\n",
    "        value = global_map[key]\n",
    "        global_map[key] = [value[0] + 1, min(temp_map[key], value[1])]\n",
    "\n",
    "  answer_list = []\n",
    "  for key, value in global_map.items():\n",
    "    if value[0]==len(lsts):\n",
    "      answer_list += [key] * value[1]\n",
    "\n",
    "  return answer_list"
   ]
  },
  {
   "cell_type": "code",
   "execution_count": null,
   "metadata": {
    "colab": {
     "base_uri": "https://localhost:8080/",
     "height": 35
    },
    "id": "S66yoaVdZGXw",
    "outputId": "d8abe7c0-bf03-4fe0-bfd1-8fae64998662"
   },
   "outputs": [
    {
     "data": {
      "text/plain": [
       "[5, 5]"
      ]
     },
     "execution_count": 10,
     "metadata": {
      "tags": []
     },
     "output_type": "execute_result"
    }
   ],
   "source": [
    "get_intersection_3(lsts)"
   ]
  },
  {
   "cell_type": "markdown",
   "metadata": {
    "id": "eGhqcyXRZCjE"
   },
   "source": [
    "*  Time Complexity: O(m * n) where n -> no. of lists and m -> no. of elements in each list\n",
    "*  Auxiliary Space Complexity: O(m * n)\n",
    "\n"
   ]
  }
 ],
 "metadata": {
  "colab": {
   "collapsed_sections": [],
   "provenance": []
  },
  "kernelspec": {
   "display_name": "Python 3 (ipykernel)",
   "language": "python",
   "name": "python3"
  },
  "language_info": {
   "codemirror_mode": {
    "name": "ipython",
    "version": 3
   },
   "file_extension": ".py",
   "mimetype": "text/x-python",
   "name": "python",
   "nbconvert_exporter": "python",
   "pygments_lexer": "ipython3",
   "version": "3.10.7"
  }
 },
 "nbformat": 4,
 "nbformat_minor": 1
}
