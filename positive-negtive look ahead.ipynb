{
 "cells": [
  {
   "cell_type": "code",
   "execution_count": 1,
   "id": "d991e5c7",
   "metadata": {},
   "outputs": [],
   "source": [
    "#https://www.youtube.com/watch?v=DSSvVd1uo8o&list=PLyb_C2HpOQSDxe5Y9viJ0JDqGUCetboxB&index=16&ab_channel=IndianPythonista\n",
    "#https://github.com/nikhilkumarsingh/RegEx-In-Python/blob/master/16.%20Look%20ahead.ipynb"
   ]
  },
  {
   "cell_type": "code",
   "execution_count": null,
   "id": "5c6756d3",
   "metadata": {},
   "outputs": [],
   "source": [
    "?= just check/verify pttern exists or not  if yes returns actual expression if not returns blnck list"
   ]
  },
  {
   "cell_type": "code",
   "execution_count": 2,
   "id": "dbe962b3",
   "metadata": {},
   "outputs": [
    {
     "ename": "SyntaxError",
     "evalue": "invalid syntax (3972204105.py, line 1)",
     "output_type": "error",
     "traceback": [
      "\u001b[1;36m  Cell \u001b[1;32mIn [2], line 1\u001b[1;36m\u001b[0m\n\u001b[1;33m    Zero-width assertions:\u001b[0m\n\u001b[1;37m               ^\u001b[0m\n\u001b[1;31mSyntaxError\u001b[0m\u001b[1;31m:\u001b[0m invalid syntax\n"
     ]
    }
   ],
   "source": [
    "Zero-width assertions:\n",
    "Characters which indicate positions rather than actual content are called zero-width assertions.\n",
    "\n",
    "For instance, the caret symbol (^) is a representation of the beginning of a line or the dollar sign ($) for the end of a line.\n",
    "\n",
    "They effectively do assertion without consuming characters; they just return a positive or negative result of the match.\n",
    "\n",
    "A more powerful kind of zero-width assertion is look around, a mechanism with which it is possible to match a certain previous (look behind) or ulterior (look ahead) value to the current position.\n"
   ]
  },
  {
   "cell_type": "code",
   "execution_count": null,
   "id": "ddff0490",
   "metadata": {},
   "outputs": [],
   "source": [
    "Look around\n",
    "Look around is a simple mechanism which during the matching process, at the current position, looks forward (or behind, depends on type of lookaround used) to see if some pattern matches before continuing with the actual match.\n",
    "\n",
    "The most important thing to understand here is that look around mechanism consists of 2 parts:\n",
    "\n",
    "actual expression: an expression whose match constitutes the final result.\n",
    "non-consuming expression: an expression whose match is evaluated before the actual expression, just to see if it can succeed. It is not actually consumed by the regex engine.\n",
    "If the non-consuming match succeeds, the regex engine forgets about this non-consuming expression and starts evaluating the next character from the current position of the actual expression.\n",
    "If the non-consuming match does not succeed, we simply move to next character of the given text and repeat the whole match process again.\n",
    "There are 2 main categories of look around which, in turn, have 2 sub-categories each."
   ]
  },
  {
   "cell_type": "code",
   "execution_count": null,
   "id": "4ac2ff48",
   "metadata": {},
   "outputs": [],
   "source": [
    "Let's explore each one of them one by one.\n",
    "\n",
    "Look ahead\n",
    "Look ahead mechanism checks the match for a non-consuming expression ahead of a given pattern.\n",
    "\n",
    "Positive look ahead\n",
    "Positive look ahead will succeed if the passed non-consuming expression does match against the forthcoming input.\n",
    "\n",
    "The syntax is A(?=B) where A is the actual expression and B is the non-consuming expression.\n",
    "\n",
    "Let's check out an example to understand the concept. Let's assume that we want to find a match for love in the given text only if it is followed by regex."
   ]
  },
  {
   "cell_type": "code",
   "execution_count": 20,
   "id": "7e91b3cd",
   "metadata": {},
   "outputs": [],
   "source": [
    "import re\n"
   ]
  },
  {
   "cell_type": "code",
   "execution_count": 8,
   "id": "6a3e81a9",
   "metadata": {},
   "outputs": [
    {
     "data": {
      "text/plain": [
       "(17, 27)"
      ]
     },
     "execution_count": 8,
     "metadata": {},
     "output_type": "execute_result"
    }
   ],
   "source": [
    "txt = \"i love python, i love regex\"\n",
    "pattern = re.compile('love regex')\n",
    "match = pattern.search(txt)\n",
    "match.span()"
   ]
  },
  {
   "cell_type": "code",
   "execution_count": 4,
   "id": "38c9a9ee",
   "metadata": {},
   "outputs": [
    {
     "data": {
      "text/plain": [
       "['love regex']"
      ]
     },
     "execution_count": 4,
     "metadata": {},
     "output_type": "execute_result"
    }
   ],
   "source": [
    "pattern.findall(txt)"
   ]
  },
  {
   "cell_type": "code",
   "execution_count": 11,
   "id": "2fa69811",
   "metadata": {},
   "outputs": [
    {
     "name": "stdout",
     "output_type": "stream",
     "text": [
      "['love']\n"
     ]
    }
   ],
   "source": [
    "match = re.findall(\"love(?=\\sregex)\",txt)\n",
    "print(match)"
   ]
  },
  {
   "cell_type": "code",
   "execution_count": 12,
   "id": "0f8e4b74",
   "metadata": {},
   "outputs": [
    {
     "data": {
      "text/plain": [
       "['red', 'green', 'blue']"
      ]
     },
     "execution_count": 12,
     "metadata": {},
     "output_type": "execute_result"
    }
   ],
   "source": [
    "txt = \"My favorite colors are red, green, and blue.\"\n",
    "pattern = re.compile(\"\\w+(?=,|\\.)\")\n",
    "pattern.findall(txt)"
   ]
  },
  {
   "cell_type": "code",
   "execution_count": null,
   "id": "da1a401c",
   "metadata": {},
   "outputs": [],
   "source": [
    "# Negative look ahead\n",
    "Negative look ahead will succeed if the passed non-consuming expression does not match against the forthcoming input.\n",
    "\n",
    "The syntax is A(?!B) where A is the actual expression and B is the non-consuming expression.\n",
    "\n",
    "Let's assume that we want to find a match for love in the given text only if it is NOT followed by regex."
   ]
  },
  {
   "cell_type": "code",
   "execution_count": 14,
   "id": "ece40677",
   "metadata": {},
   "outputs": [],
   "source": [
    "txt = \"i love python, i love regex\"\n",
    "pattern = re.compile(\"love(?!\\sregex)\")"
   ]
  },
  {
   "cell_type": "code",
   "execution_count": null,
   "id": "f7a1d30c",
   "metadata": {},
   "outputs": [],
   "source": []
  }
 ],
 "metadata": {
  "kernelspec": {
   "display_name": "Python 3 (ipykernel)",
   "language": "python",
   "name": "python3"
  },
  "language_info": {
   "codemirror_mode": {
    "name": "ipython",
    "version": 3
   },
   "file_extension": ".py",
   "mimetype": "text/x-python",
   "name": "python",
   "nbconvert_exporter": "python",
   "pygments_lexer": "ipython3",
   "version": "3.10.7"
  }
 },
 "nbformat": 4,
 "nbformat_minor": 5
}
