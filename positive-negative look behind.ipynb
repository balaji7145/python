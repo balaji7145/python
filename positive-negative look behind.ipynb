{
 "cells": [
  {
   "cell_type": "code",
   "execution_count": 2,
   "id": "3a504787",
   "metadata": {},
   "outputs": [],
   "source": [
    "import re"
   ]
  },
  {
   "cell_type": "code",
   "execution_count": null,
   "id": "b5e4f784",
   "metadata": {},
   "outputs": [],
   "source": [
    "Negative look behind\n",
    "Negative look behind will succeed if the passed non-consuming expression does not match against the forthcoming input.\n",
    "\n",
    "The syntax is (?<!B)A where A is the actual expression and B is the non-consuming expression."
   ]
  },
  {
   "cell_type": "code",
   "execution_count": 3,
   "id": "560c1a58",
   "metadata": {},
   "outputs": [],
   "source": [
    "txt = \"love regex or hate regex, can't ignore regex\"\n",
    "pattern = re.compile(\"(?<=(love|hate)\\s)regex\")"
   ]
  },
  {
   "cell_type": "code",
   "execution_count": 5,
   "id": "5a988b7b",
   "metadata": {},
   "outputs": [],
   "source": [
    "#Let's assume that we want to find a match for regex in the given text if it is not followed by love or hate.\n",
    "\n",
    "pattern = re.compile(\"(?<!(love|hate)\\s)regex\")\n"
   ]
  },
  {
   "cell_type": "code",
   "execution_count": null,
   "id": "f2f5672a",
   "metadata": {},
   "outputs": [],
   "source": []
  }
 ],
 "metadata": {
  "kernelspec": {
   "display_name": "Python 3 (ipykernel)",
   "language": "python",
   "name": "python3"
  },
  "language_info": {
   "codemirror_mode": {
    "name": "ipython",
    "version": 3
   },
   "file_extension": ".py",
   "mimetype": "text/x-python",
   "name": "python",
   "nbconvert_exporter": "python",
   "pygments_lexer": "ipython3",
   "version": "3.10.7"
  }
 },
 "nbformat": 4,
 "nbformat_minor": 5
}
